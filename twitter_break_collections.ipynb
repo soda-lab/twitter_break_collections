{
 "cells": [
  {
   "cell_type": "markdown",
   "metadata": {},
   "source": [
    "# Break large collection into smaller collection based on week number\n",
    "## 1. connect mongodb"
   ]
  },
  {
   "cell_type": "code",
   "execution_count": 1,
   "metadata": {},
   "outputs": [],
   "source": [
    "import warnings\n",
    "warnings.filterwarnings(\"ignore\", category=DeprecationWarning)\n",
    "\n",
    "\n",
    "import configparser \n",
    "config = configparser.ConfigParser()\n",
    "config.read('config.ini')\n",
    "ip = config['DEFAULT']['IP']\n",
    "port = config['DEFAULT']['MongoDB-Port']\n",
    "\n",
    "from pymongo import MongoClient\n",
    "client = MongoClient(ip, int(port))"
   ]
  },
  {
   "cell_type": "code",
   "execution_count": 2,
   "metadata": {},
   "outputs": [],
   "source": [
    "#print(client.database_names())\n",
    "db_twitter = client[\"Twitter\"]\n",
    "collections = db_twitter.collection_names()"
   ]
  },
  {
   "cell_type": "code",
   "execution_count": 3,
   "metadata": {},
   "outputs": [
    {
     "name": "stdout",
     "output_type": "stream",
     "text": [
      "2019_W8_Twitter_Australia: 198\n",
      "2019_W8_Twitter_Other: 31,057\n",
      "2019_W9_Twitter_Australia: 2,316\n",
      "2019_W9_Twitter_Other: 711,083\n",
      "twitter-australia: 460,138\n",
      "twitter-other: 249,447,870\n",
      "twitter-richard-2014: 211,755\n",
      "twitter-richard-2015: 198,258\n",
      "twitter-richard-2016: 10,801\n",
      "twitter-richard-2017: 21,797,263\n",
      "twitter-richard-2018: 10,679,787\n"
     ]
    }
   ],
   "source": [
    "dic_collection={}\n",
    "for i in collections:\n",
    "    dic_collection[i] = \"{:,}\".format(db_twitter[i].find({}).count())\n",
    "    \n",
    "for key in sorted(dic_collection):\n",
    "    print(\"%s: %s\" % (key, dic_collection[key]))"
   ]
  },
  {
   "cell_type": "markdown",
   "metadata": {},
   "source": [
    "## 2. split twitter-australia collection based on week number in 2018"
   ]
  },
  {
   "cell_type": "code",
   "execution_count": null,
   "metadata": {},
   "outputs": [],
   "source": [
    "list_2018 = [\"1545609600000\",\"1546214400000\"]    # get timestamp_ms of 2018 week 51 and week 52\n",
    "\n",
    "for i in list_2018: \n",
    "    w = int((int(i) - 1514764800000)/1000/604800)       # calculate week number\n",
    "    \n",
    "    # create pipeline to search record with timestamp_ms which is less than i\n",
    "    pipeline = [ \n",
    "        {\"$match\": {'timestamp_ms':{'$lt':i}}},\n",
    "        {\"$out\": \"2018_W\" + str(w) + \"_Twitter_Other\"},\n",
    "    ]\n",
    "    \n",
    "    # prevent emptying the collection if the method is already done before or some errors occur during the copying process\n",
    "    try:\n",
    "        if db_twitter['twitter-other'].find_one({'timestamp_ms':{'$lt':i}}) == None:\n",
    "            print(\"No document is found\")\n",
    "            break\n",
    "        db_twitter['twitter-other'].aggregate(pipeline)\n",
    "    except:\n",
    "        print(\"error\")\n",
    "        break\n",
    "        \n",
    "    # remove records in the old collection after previous part finish\n",
    "    db_twitter['twitter-other'].remove({'timestamp_ms':{'$lt':i}}) \n",
    "    \n",
    "    print(\"finised 2018 week \"+ str(w))"
   ]
  },
  {
   "cell_type": "markdown",
   "metadata": {},
   "source": [
    "## 3. split twitter-australia collection based on week number in 2019"
   ]
  },
  {
   "cell_type": "code",
   "execution_count": null,
   "metadata": {},
   "outputs": [],
   "source": [
    "# get timestamp_ms of 2019 from week 1 to week 8\n",
    "list_2019 = [\"1546819200000\", \"1547424000000\",\"1548028800000\",\"1548633600000\",\"1549238400000\",\"1549843200000\",\"1550448000000\",\"1551052800000\"]\n",
    "\n",
    "for i in list_2019:\n",
    "    w = int((int(i) - 1546214400000)/1000/604800)      # calculate week number\n",
    "    \n",
    "    # create pipeline to search record with timestamp_ms which is less than i\n",
    "    pipeline = [ \n",
    "        {\"$match\": {'timestamp_ms':{'$lt':i}}},\n",
    "        {\"$out\": \"2019_W\" + str(w) + \"_Twitter_Other\"},\n",
    "    ]\n",
    "    \n",
    "    # prevent emptying the collection if the method is already done before or some errors occur during the copying process\n",
    "    try:\n",
    "        if db_twitter['twitter-other'].find_one({'timestamp_ms':{'$lt':i}}) == None:\n",
    "            print(\"No document is found\")\n",
    "            break\n",
    "        db_twitter['twitter-other'].aggregate(pipeline)\n",
    "    except:\n",
    "        print(\"error\")\n",
    "        break\n",
    "        \n",
    "    # remove records in the old collection after previous part finish\n",
    "    db_twitter['twitter-other'].remove({'timestamp_ms':{'$lt':i}}) \n",
    "    \n",
    "    print(\"finised 2019 week \"+ str(w))"
   ]
  },
  {
   "cell_type": "code",
   "execution_count": null,
   "metadata": {},
   "outputs": [],
   "source": []
  }
 ],
 "metadata": {
  "kernelspec": {
   "display_name": "Python 3",
   "language": "python",
   "name": "python3"
  },
  "language_info": {
   "codemirror_mode": {
    "name": "ipython",
    "version": 3
   },
   "file_extension": ".py",
   "mimetype": "text/x-python",
   "name": "python",
   "nbconvert_exporter": "python",
   "pygments_lexer": "ipython3",
   "version": "3.6.4"
  }
 },
 "nbformat": 4,
 "nbformat_minor": 2
}
