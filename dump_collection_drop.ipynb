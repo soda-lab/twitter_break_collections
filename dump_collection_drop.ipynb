{
 "cells": [
  {
   "cell_type": "code",
   "execution_count": 50,
   "metadata": {},
   "outputs": [],
   "source": [
    "import time\n",
    "import datetime\n",
    "import re\n",
    "\n",
    "import warnings\n",
    "warnings.filterwarnings(\"ignore\", category=DeprecationWarning)\n",
    "\n",
    "\n",
    "import configparser \n",
    "config = configparser.ConfigParser()\n",
    "config.read('config.ini')\n",
    "ip = config['DEFAULT']['IP']\n",
    "port = config['DEFAULT']['MongoDB-Port']\n",
    "\n",
    "from pymongo import MongoClient\n",
    "client = MongoClient(\"localhost\", int(port))"
   ]
  },
  {
   "cell_type": "code",
   "execution_count": 51,
   "metadata": {},
   "outputs": [],
   "source": [
    "#print(client.database_names())\n",
    "db_twitter = client[\"Twitter\"]\n",
    "collections = db_twitter.collection_names()"
   ]
  },
  {
   "cell_type": "code",
   "execution_count": 52,
   "metadata": {},
   "outputs": [
    {
     "name": "stdout",
     "output_type": "stream",
     "text": [
      "2019_W1_Twitter_Australia: 40,880\n",
      "2019_W2_Twitter_Australia: 37,645\n",
      "2019_W3_Twitter_Australia: 52,348\n",
      "2019_W4_Twitter_Australia: 59,625\n",
      "2019_W5_Twitter_Australia: 61,617\n",
      "2019_W6_Twitter_Australia: 61,435\n",
      "2019_W7_Twitter_Australia: 28,017\n",
      "2019_W8_Twitter_Australia: 37,040\n"
     ]
    }
   ],
   "source": [
    "dic_collection={}\n",
    "for i in collections:\n",
    "    if i.startswith(\"20\"):\n",
    "        dic_collection[i] = \"{:,}\".format(db_twitter[i].find({}).count())\n",
    "    \n",
    "for key in sorted(dic_collection):\n",
    "    print(\"%s: %s\" % (key, dic_collection[key]))"
   ]
  },
  {
   "cell_type": "code",
   "execution_count": 53,
   "metadata": {},
   "outputs": [
    {
     "name": "stdout",
     "output_type": "stream",
     "text": [
      "1551075217299\n",
      "2019\n"
     ]
    }
   ],
   "source": [
    "current_timestamp = int(time.time() * 1000)\n",
    "print(current_timestamp)\n",
    "current_year = int(datetime.datetime.now().year)\n",
    "print(current_year)"
   ]
  },
  {
   "cell_type": "code",
   "execution_count": 54,
   "metadata": {},
   "outputs": [
    {
     "name": "stdout",
     "output_type": "stream",
     "text": [
      "9\n"
     ]
    }
   ],
   "source": [
    "current_week = int((current_timestamp - 1546214400000)/1000/604800)+1\n",
    "print(current_week)"
   ]
  },
  {
   "cell_type": "code",
   "execution_count": 55,
   "metadata": {},
   "outputs": [
    {
     "name": "stdout",
     "output_type": "stream",
     "text": [
      "['2019_W1_Twitter_Australia', '2019_W2_Twitter_Australia', '2019_W3_Twitter_Australia', '2019_W4_Twitter_Australia', '2019_W5_Twitter_Australia', '2019_W6_Twitter_Australia', '2019_W7_Twitter_Australia', '2019_W8_Twitter_Australia']\n"
     ]
    }
   ],
   "source": [
    "old_collection = []\n",
    "\n",
    "for key in sorted(dic_collection):\n",
    "    year = key[0:4]\n",
    "    week = re.search('_(.+?)_', key).group(1)[1:]\n",
    "    if int(year) < current_year:\n",
    "        old_collection.append(key)\n",
    "    else:\n",
    "        if int(week) < current_week:\n",
    "            old_collection.append(key)\n",
    "            \n",
    "print(old_collection)\n"
   ]
  },
  {
   "cell_type": "code",
   "execution_count": null,
   "metadata": {},
   "outputs": [],
   "source": []
  }
 ],
 "metadata": {
  "kernelspec": {
   "display_name": "Python 3",
   "language": "python",
   "name": "python3"
  },
  "language_info": {
   "codemirror_mode": {
    "name": "ipython",
    "version": 3
   },
   "file_extension": ".py",
   "mimetype": "text/x-python",
   "name": "python",
   "nbconvert_exporter": "python",
   "pygments_lexer": "ipython3",
   "version": "3.6.4"
  }
 },
 "nbformat": 4,
 "nbformat_minor": 2
}
